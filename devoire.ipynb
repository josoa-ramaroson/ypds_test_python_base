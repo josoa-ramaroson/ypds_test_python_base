{
 "cells": [
  {
   "cell_type": "markdown",
   "id": "7a72470b",
   "metadata": {},
   "source": [
    "## EXERCICE 1"
   ]
  },
  {
   "cell_type": "markdown",
   "id": "86ba5877",
   "metadata": {},
   "source": [
    "cette exercice consiste à créer un script qui permet de renvoyer des textes à l'écran en fonction du jour\n",
    "\n"
   ]
  },
  {
   "cell_type": "code",
   "execution_count": null,
   "id": "836bd0e3",
   "metadata": {},
   "outputs": [],
   "source": [
    "liste = ['lundi','mardi','mercredi',\"jeudi\",'vendredi','samedi','dimanche']\n",
    "while True:\n",
    "    user = input(\"Saisisez votre jour, ou entrer quitter pour arrêter le programme : \").lower()  \n",
    "    if user == \"quitter\": \n",
    "        break\n",
    "    if user in liste[0:3]:\n",
    "        print(\"Au travail\")\n",
    "    elif user == liste[-2]:\n",
    "        print(\"Chouette c'est vendredi\")\n",
    "    elif user in liste[5::]:\n",
    "        print(\"Repo ce weekend\")\n",
    "    else :\n",
    "        print(\"Entrée invalide\\n\")\n",
    "    print('*'*100)\n",
    "\n",
    "    "
   ]
  },
  {
   "cell_type": "markdown",
   "id": "3d63b8a3",
   "metadata": {},
   "source": [
    "# EXERCICE 2\n"
   ]
  },
  {
   "cell_type": "markdown",
   "id": "1e33d1c5",
   "metadata": {},
   "source": [
    "Affichage de la séquence complémentaire de l'ADN stocké dans la variable `AND` en tant que liste de caractère"
   ]
  },
  {
   "cell_type": "code",
   "execution_count": null,
   "id": "a8aa4009",
   "metadata": {},
   "outputs": [],
   "source": [
    "\n",
    "def exchange(x):\n",
    "    if x == \"A\":\n",
    "        return \"T\"\n",
    "    elif x == \"C\":\n",
    "        return \"G\"\n",
    "    elif x == \"T\":\n",
    "        return \"A\"\n",
    "    elif x == \"G\":\n",
    "        return \"C\"\n",
    "ADN = [\"A\",\"C\",\"G\",\"T\",\"T\",\"A\",\"G\",\"C\",\"T\",\"A\",\"A\",\"C\",\"G\"]\n",
    "\n",
    "ADN_reverse =list(map(exchange,ADN))\n",
    "print(ADN_reverse)"
   ]
  },
  {
   "cell_type": "markdown",
   "id": "0ccc4e2c",
   "metadata": {},
   "source": [
    "# EXERCICE 3 \n",
    "Calcul de la moyenne d'un étudiant et affichage de son mention en fonction de la moyenne"
   ]
  },
  {
   "cell_type": "code",
   "execution_count": null,
   "id": "878bebec",
   "metadata": {},
   "outputs": [],
   "source": [
    "\n",
    "note = [14,9,13,15,12]\n",
    "noteMin = min(note)\n",
    "noteMax = max(note)\n",
    "moyenne = sum(note)/len(note)\n",
    "\n",
    "print(\"la moyenne {:.2f}\".format(moyenne))\n",
    "if moyenne < 12 and moyenne >= 10:\n",
    "    print(\"la mention est passable\")\n",
    "elif moyenne >= 12 and moyenne <14:\n",
    "    print(\"la mention est assez bien\")\n",
    "elif moyenne >= 14:\n",
    "    print(\"bien\")\n"
   ]
  },
  {
   "cell_type": "markdown",
   "id": "7d17b476",
   "metadata": {},
   "source": [
    "# EXERCICE 4\n",
    "Initialisation de deux entiers : a = 0 et b = 10.\n",
    "Écriture d'une boucle affichant et incrémentant la valeur de a tant qu’elle reste inférieure à\n",
    "celle de b.\n",
    "Écrire d'une autre boucle décrémentant la valeur de b et affichant sa valeur si elle est\n",
    "impaire. Boucler tant que b n’est pas 0."
   ]
  },
  {
   "cell_type": "code",
   "execution_count": null,
   "id": "2bfe8df7",
   "metadata": {},
   "outputs": [],
   "source": [
    "\n",
    "a = 0\n",
    "b = 10\n",
    "print(\"la valeur de a\")\n",
    "while a<b:\n",
    "    print(a)\n",
    "    a+=1\n",
    "\n",
    "while b!=0:\n",
    "    if b%2 != 0:\n",
    "        print(b)\n",
    "\n",
    "    b-=1\n"
   ]
  },
  {
   "cell_type": "markdown",
   "id": "1818da20",
   "metadata": {},
   "source": [
    "# EXERCICE 5\n",
    "On désire sécuriser une enceinte pressurisée.\n",
    "On se fixe une pression seuil et un volume seuil : pSeuil = 2.3, vSeuil = 7.41. On\n",
    "demande de saisir la pression et le volume courant de l’enceinte et d’écrire un script qui\n",
    "simule le comportement suivant :\n",
    "- si le volume et la pression sont supérieurs aux seuils : arrêt immédiat ;\n",
    "- si seule la pression est supérieure à la pression seuil : demander d’augmenter le\n",
    "volume de l’enceinte ;\n",
    "- si seul le volume est supérieur au volume seuil : demander de diminuer le volume de\n",
    "l’enceinte ;\n",
    "- sinon déclarer que « tout va bien ».\n",
    "  \n",
    "  Ce comportement sera implémenté par une alternative multiple."
   ]
  },
  {
   "cell_type": "code",
   "execution_count": null,
   "id": "9665be78",
   "metadata": {},
   "outputs": [],
   "source": [
    "\n",
    "pSeuil = 2.3\n",
    "vSeuil = 7.41\n",
    "\n",
    "pression = float(input(\"la pression courrant: \"))\n",
    "volume = float(input(\"la volume courant: \"))\n",
    "\n",
    "if pression > pSeuil and volume > vSeuil:\n",
    "    print(\"arrête immédiat\")\n",
    "elif volume > vSeuil:\n",
    "    print(\"Veuillez diminuer la volume de l'enceinte\")\n",
    "elif pression > pSeuil:\n",
    "    print(\"Veuillez augmenter la volume de l'enceinte\")\n",
    "else:\n",
    "    print(\"tout va bien\")\n",
    "\n",
    "    "
   ]
  },
  {
   "cell_type": "markdown",
   "id": "1392d2d5",
   "metadata": {},
   "source": [
    "# EXERCICE 6\n",
    "- une boucle qui parcours les nombres de 0 à 100 et qui stocke les nombres pairs\n",
    "- inférieurs ou égaux à 50 dans une liste appelée pairs_inf_50, et les nombres impairs\n",
    "- strictement supérieur à 50 dans une autre liste appelée impairs_sup_50. Et puis,\n",
    "- affichez les 2 listes."
   ]
  },
  {
   "cell_type": "code",
   "execution_count": null,
   "id": "02dccbf9",
   "metadata": {},
   "outputs": [],
   "source": [
    "\n",
    "pairs_inf_50 = []\n",
    "impairs_sup_50 = []\n",
    "\n",
    "for i in range(101):\n",
    "    if i <50:\n",
    "        if i%2 == 0:\n",
    "            pairs_inf_50.append(i)\n",
    "    else:\n",
    "        if i%2 != 0:\n",
    "            impairs_sup_50.append(i)\n",
    "print(\"pairs  |  impairs\")\n",
    "for i,j in zip(pairs_inf_50,impairs_sup_50):\n",
    "    print(\"{}\\t{}\".format(i,j))"
   ]
  },
  {
   "cell_type": "markdown",
   "id": "e932f619",
   "metadata": {},
   "source": [
    "# EXERCICE 7\n",
    "les nombres premiers inférieurs à 100"
   ]
  },
  {
   "cell_type": "code",
   "execution_count": null,
   "id": "ef072792",
   "metadata": {},
   "outputs": [],
   "source": [
    "def composer_de(liste_nombre:list,nombre:int):\n",
    "    for e in liste_nombre:\n",
    "        if nombre % e ==0 and nombre != e:\n",
    "            return True\n",
    "    return False\n",
    "nombre_premier = [2]\n",
    "for i in range(3,101):\n",
    "    if not composer_de(nombre_premier,i):\n",
    "        nombre_premier.append(i)\n",
    "print(\"le nombre de nombre premier est {}\".format(len(nombre_premier)))\n",
    "print(nombre_premier)\n"
   ]
  },
  {
   "cell_type": "markdown",
   "id": "2c7de7ad",
   "metadata": {},
   "source": [
    "# EXERCICE 8\n",
    "\n",
    "## Le sujet:\n",
    "- Définir la liste : liste = `[17, 38, 10, 25, 72]`, puis effectuez les actions suivantes :\n",
    "- triez et affichez la liste ;\n",
    "- ajoutez l’élément 12 à la liste et affichez la liste ;\n",
    "- renversez et affichez la liste ;\n",
    "- affichez l’indice de l’élément 17 ;\n",
    "- enlevez l’élément 38 et affichez la liste ;\n",
    "- affichez la sous-liste du 2e au 3e élément ;\n",
    "- affichez la sous-liste du début au 2e élément ;\n",
    "- affichez la sous-liste du 3e élément à la fin de la liste ;\n",
    "- affichez la sous-liste complète de la liste ;"
   ]
  },
  {
   "cell_type": "code",
   "execution_count": null,
   "id": "d9c27f6e",
   "metadata": {},
   "outputs": [],
   "source": [
    "\n",
    "liste = [17, 38, 10, 25, 72]\n",
    "liste.sort()\n",
    "print(liste)\n",
    "\n",
    "liste.append(12)\n",
    "print(liste)\n",
    "\n",
    "liste.sort(reverse=True)\n",
    "print(liste)\n",
    "\n",
    "print(\"l'indice de l'élément 17 : {}\".format(liste.index(17)))\n",
    "\n",
    "liste.remove(38)\n",
    "print(liste)\n",
    "\n",
    "print(liste[1:3])\n",
    "\n",
    "print(liste[2::])\n",
    "\n",
    "print(liste[::])"
   ]
  },
  {
   "cell_type": "markdown",
   "id": "4be869ec",
   "metadata": {},
   "source": [
    "# EXERCICE 9\n",
    "\n",
    "Ecriture d'une fonction compterMots ayant un argument (une chaîne de caractères) et qui\n",
    "renvoie un dictionnaire qui contient la fréquence de tous les mots de la chaîne entrée.\n",
    "\n",
    "` Ex :\n",
    "text = ‘comment ça va !’\n",
    "Le résultat de compterMots(text) devra {‘c’ : 1, ‘o’ : 1, ‘m’ : 2, ‘e’ : 1, ‘n’ : 1, ‘t’ : 1,\n",
    "‘ ‘ : 2, ‘ç’ : 1, ‘a’ : 2, ‘v’ : 1, ‘ !’ : 1}`"
   ]
  },
  {
   "cell_type": "code",
   "execution_count": null,
   "id": "9ae42229",
   "metadata": {},
   "outputs": [],
   "source": [
    "def compterMots(chaine:str):\n",
    "    nbre={}\n",
    "    liste_car = [*chaine]\n",
    "    for i in liste_car:\n",
    "        nbre[i] = 0\n",
    "    for i in liste_car:\n",
    "        nbre[i] += 1\n",
    "    return nbre \n",
    "\n",
    "print(compterMots(\"comment ça va!\"))\n"
   ]
  },
  {
   "cell_type": "markdown",
   "id": "c6782814",
   "metadata": {},
   "source": [
    "# EXERCICE 10\n",
    "### VOICI LE SUJET:\n",
    "1. Définir une classe Vecteur2D avec un constructeur fournissant les coordonnées par défaut d’un vecteur du plan (par exemple : x = 0 et y = 0).\n",
    "2. Dans le programme principal, instanciez un Vecteur2D sans paramètre, un Vecteur2Davec ses deux paramètres, et affichez-les.\n",
    "3. Enrichissez la classe Vecteur2D précédente en lui ajoutant une méthode d’affichage et une méthode de surcharge d’addition de deux vecteurs du plan.\n",
    "4. Dans le programme principal, instanciez deux Vecteur2D, affichez-les et affichez leur somme."
   ]
  },
  {
   "cell_type": "code",
   "execution_count": null,
   "id": "c94db048",
   "metadata": {},
   "outputs": [],
   "source": [
    "\n",
    "class Vecteur2D:\n",
    "    def __init__(self,x=0,y=0):\n",
    "        self.x = x\n",
    "        self.y = y \n",
    "    \n",
    "    def __str__(self):\n",
    "        return \"({},{})\".format(self.x,self.y)\n",
    "    \n",
    "    def affichage(self):\n",
    "        print(\"l\")\n",
    "    def __add__(self,other):\n",
    "        return Vecteur2D(self.x+other.x,self.y+other.y)\n",
    "vec1 = Vecteur2D()\n",
    "vec2 = Vecteur2D(5,2)\n",
    "print(vec1)\n",
    "print(\"les coordonnées du vec1 ({},{})\".format(vec1.x,vec1.y))\n",
    "\n",
    "vec3 = Vecteur2D(5,6)\n",
    "vec4 = Vecteur2D(4,5)\n",
    "print(\" vec3 :{}\\n vec4 :{}\\n vec3+vec4: {}\\n\".format(vec3,vec4,vec3+vec4))"
   ]
  },
  {
   "cell_type": "code",
   "execution_count": null,
   "id": "5fd6094e",
   "metadata": {},
   "outputs": [],
   "source": []
  }
 ],
 "metadata": {
  "kernelspec": {
   "display_name": "Python 3 (ipykernel)",
   "language": "python",
   "name": "python3"
  },
  "language_info": {
   "codemirror_mode": {
    "name": "ipython",
    "version": 3
   },
   "file_extension": ".py",
   "mimetype": "text/x-python",
   "name": "python",
   "nbconvert_exporter": "python",
   "pygments_lexer": "ipython3",
   "version": "3.11.2"
  }
 },
 "nbformat": 4,
 "nbformat_minor": 5
}
